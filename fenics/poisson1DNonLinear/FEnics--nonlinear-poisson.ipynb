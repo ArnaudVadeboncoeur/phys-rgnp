{
 "cells": [
  {
   "attachments": {},
   "cell_type": "markdown",
   "metadata": {
    "tags": []
   },
   "source": [
    "## FS-PDDLVM example\n",
    "\n",
    "\\begin{align}\n",
    "-\\frac{\\partial}{\\partial x}\\left(k(u,x)\\frac{\\partial u(x)}{\\partial x}\\right) &= w(x) \\quad \\forall x \\in [-1,1]\\\\\n",
    "u(-1) &= u(1) = 0 \\\\\n",
    "k(u,x) &:= \\log\\left(1 + \\exp\\left(u(x)\\sum_{i}z_{i}\\phi_{i}(x)\\right)\\right) + 0.1 \\\\\n",
    "\\end{align}"
   ]
  },
  {
   "cell_type": "code",
   "execution_count": null,
   "metadata": {},
   "outputs": [],
   "source": [
    "import os\n",
    "import tensorflow as tf\n",
    "import tensorflow_probability as tfp\n",
    "tfd = tfp.distributions\n",
    "os.environ['CUDA_VISIBLE_DEVICES']='-1'\n",
    "\n",
    "import warnings\n",
    "warnings.filterwarnings(\"ignore\", category=RuntimeWarning)\n",
    "\n",
    "import fenics as fe\n",
    "import numpy as np\n",
    "import matplotlib.pyplot as plt\n",
    "import time\n",
    "import gc\n",
    "plt.rcParams[\"figure.figsize\"] = (10,8)"
   ]
  },
  {
   "cell_type": "code",
   "execution_count": null,
   "metadata": {},
   "outputs": [],
   "source": [
    "dirname='data-groundTruth_2--PoissonNonLinear1D_1000'\n",
    "os.makedirs(dirname, exist_ok=True)\n"
   ]
  },
  {
   "cell_type": "code",
   "execution_count": null,
   "metadata": {},
   "outputs": [],
   "source": [
    "def solve_nonlinear_poisson(diffusion_data, w, nx=101, degree=1, solver_options={\"conv_criterion\": \"incremental\", \"rtol\": 1e-6, \"report\": True, \"max_it\": 50}):\n",
    "    \n",
    "    # create domain, FEM space, and boundary conditions\n",
    "    mesh = fe.IntervalMesh(nx,-1.0,1.0)\n",
    "    mesh = fe.IntervalMesh(nx,-1.0,1.0)\n",
    "    V = fe.FunctionSpace(mesh, \"CG\", degree)\n",
    "    xgrid = V.tabulate_dof_coordinates()[:,0]\n",
    "    bc = fe.DirichletBC(V, fe.Constant(0), \"on_boundary\")\n",
    "    \n",
    "    # create diffusion function\n",
    "    def k(u,x):\n",
    "        my_exponent = 0.0\n",
    "        for (z,phi) in diffusion_data:\n",
    "            my_exponent += z * phi(x[0])\n",
    "        my_exponent = u * my_exponent\n",
    "        return fe.function.function.ufl.ln(1.0 + fe.function.function.ufl.exp(my_exponent)) + 0.1\n",
    "    \n",
    "    # set up non-linear variational problem\n",
    "    x = fe.function.function.ufl.SpatialCoordinate(mesh)\n",
    "    uh = fe.Function(V)\n",
    "    v = fe.TestFunction(V)\n",
    "    if w == 0.0:\n",
    "        F = k(uh,x)*fe.dot(fe.grad(uh), fe.grad(v))*fe.dx\n",
    "    else:\n",
    "        F = k(uh,x)*fe.dot(fe.grad(uh), fe.grad(v))*fe.dx - w*v*fe.dx\n",
    "    \n",
    "    J = fe.derivative(F,uh)\n",
    "\n",
    "    fe.solve(F == 0, uh, J=J, bcs=bc)\n",
    "\n",
    "    xSln = np.array( xgrid )\n",
    "    uSln = np.array( uh.vector().get_local() )\n",
    "    \n",
    "    del mesh\n",
    "    del V\n",
    "    del bc\n",
    "    del x, uh, v, F, J\n",
    "\n",
    "    return uSln, xSln"
   ]
  },
  {
   "attachments": {},
   "cell_type": "markdown",
   "metadata": {},
   "source": [
    "## Very simple example"
   ]
  },
  {
   "cell_type": "code",
   "execution_count": null,
   "metadata": {},
   "outputs": [],
   "source": [
    "diffusion_data = [(1.0,lambda x: x**0)]\n",
    "w = 1.0\n",
    "uh, xgrid = solve_nonlinear_poisson(diffusion_data, w)\n",
    "\n",
    "plt.plot(xgrid, uh)\n",
    "plt.show()\n",
    "print('xgrid.shape', xgrid.shape)"
   ]
  },
  {
   "attachments": {},
   "cell_type": "markdown",
   "metadata": {},
   "source": [
    "## Chebyshev expansion test example\n",
    "\n",
    "\\begin{align}\n",
    "z_0 &= 1 \\\\\n",
    "z_1 &= -1 \\\\\n",
    "z_2 &= 0.1 \\\\\n",
    "\\phi_{i}(x) &:= T_{i}(x) = \\cos(i * \\arccos(x))\n",
    "\\end{align}"
   ]
  },
  {
   "cell_type": "code",
   "execution_count": null,
   "metadata": {},
   "outputs": [],
   "source": [
    "def cheby_T(x,n):\n",
    "    return fe.function.function.ufl.cos(n * fe.function.function.ufl.acos(x))"
   ]
  },
  {
   "cell_type": "code",
   "execution_count": null,
   "metadata": {},
   "outputs": [],
   "source": [
    "diffusion_data = [(1.0, lambda x: cheby_T(x,0)), (-1.0, lambda x: cheby_T(x,1)), (0.1, lambda x: cheby_T(x,2))]\n",
    "w = 5.0\n",
    "\n",
    "uh, xgrid = solve_nonlinear_poisson(diffusion_data, w, nx=200)\n",
    "\n",
    "plt.plot(xgrid, uh)\n",
    "plt.show()\n",
    "print('xgrid.shape', xgrid.shape)\n",
    "np.savetxt(dirname+'/' + 'FenicsMeshX.dat'       , xgrid )"
   ]
  },
  {
   "cell_type": "code",
   "execution_count": null,
   "metadata": {},
   "outputs": [],
   "source": [
    "dimZ = 5\n",
    "dimW = 1\n",
    "\n",
    "zDist = tfd.Uniform(low=tf.constant(-1., shape=[dimZ]), high=tf.constant(1., shape=[dimZ]))\n",
    "wDist = tfd.Uniform(low=tf.constant( 1., shape=[dimW]), high=tf.constant(2., shape=[dimW]))\n",
    "\n",
    "nSamples  = 1_000\n",
    "allTrueZs = zDist.sample(nSamples)\n",
    "allTrueWs = wDist.sample(nSamples)\n",
    "\n",
    "groundTruthU = []\n",
    "groundTruthX = xgrid\n",
    "\n",
    "startTime = time.time()\n",
    "for i in range(allTrueZs.shape[0]):\n",
    "        \n",
    "    \n",
    "    diffusion_data=  [ (allTrueZs[i][0].numpy().squeeze(), lambda x: cheby_T(x,0)), \n",
    "                       (allTrueZs[i][1].numpy().squeeze(), lambda x: cheby_T(x,1)),  \n",
    "                       (allTrueZs[i][2].numpy().squeeze(), lambda x: cheby_T(x,2)),\n",
    "                       (allTrueZs[i][3].numpy().squeeze(), lambda x: cheby_T(x,3)),\n",
    "                       (allTrueZs[i][4].numpy().squeeze(), lambda x: cheby_T(x,4))\n",
    "                     ]\n",
    "        \n",
    "    uSln, xSln = solve_nonlinear_poisson(diffusion_data, allTrueWs[i].numpy().squeeze(), nx=200)\n",
    "    \n",
    "    gc.collect()\n",
    "    \n",
    "    plt.plot(xSln, uSln)\n",
    "    \n",
    "    groundTruthU.append(np.copy(uSln) )\n",
    "\n",
    "print('time taken = ', time.time() - startTime, 's')\n",
    "plt.show()\n",
    "\n",
    "np.savetxt(dirname+'/' + 'allGroundTruthU.dat'   , groundTruthU )\n",
    "np.savetxt(dirname+'/' + 'allGroundTruthZ.dat'   , allTrueZs )\n",
    "np.savetxt(dirname+'/' + 'allGroundTruthW.dat'   , allTrueWs )\n",
    "np.savetxt(dirname+'/' + 'FenicsMeshX.dat'       , xSln )"
   ]
  },
  {
   "cell_type": "code",
   "execution_count": null,
   "metadata": {},
   "outputs": [],
   "source": []
  }
 ],
 "metadata": {
  "kernelspec": {
   "display_name": "Python 3.10.6 ('lfm')",
   "language": "python",
   "name": "python3"
  },
  "language_info": {
   "codemirror_mode": {
    "name": "ipython",
    "version": 3
   },
   "file_extension": ".py",
   "mimetype": "text/x-python",
   "name": "python",
   "nbconvert_exporter": "python",
   "pygments_lexer": "ipython3",
   "version": "3.10.8 | packaged by conda-forge | (main, Nov 22 2022, 08:26:04) [GCC 10.4.0]"
  },
  "vscode": {
   "interpreter": {
    "hash": "56d2bb5d7cc3676b4f24fb92af7a44f3b6495c3f95e7930a39b9feb733cbd04c"
   }
  }
 },
 "nbformat": 4,
 "nbformat_minor": 4
}
